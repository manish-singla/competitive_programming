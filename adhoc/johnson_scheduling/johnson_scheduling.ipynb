{
 "cells": [
  {
   "cell_type": "code",
   "execution_count": 49,
   "metadata": {},
   "outputs": [
    {
     "name": "stdout",
     "output_type": "stream",
     "text": [
      "{2: ['S_A'], 6: ['P_A', 'S_E'], 5: ['S_B', 'S_H'], 8: ['P_B', 'S_F', 'P_H'], 4: ['S_C', 'P_D', 'S_I'], 7: ['P_C', 'S_G'], 9: ['S_D', 'P_F'], 3: ['P_E', 'P_G'], 11: ['P_I']}\n",
      "{'A': 2, 'B': 5, 'C': 4, 'D': 9, 'E': 6, 'F': 8, 'G': 7, 'H': 5, 'I': 4}\n",
      "{'A': 6, 'B': 8, 'C': 7, 'D': 4, 'E': 3, 'F': 9, 'G': 3, 'H': 8, 'I': 11}\n"
     ]
    }
   ],
   "source": [
    "from collections import defaultdict\n",
    "from itertools import chain\n",
    "\n",
    "# stage = [3.2,4.7,2.2,5.8,3.1]\n",
    "# photo = [4.2,1.5,5,4,2.8]\n",
    "# job = ['A','B','C','D','E']\n",
    "\n",
    "stage = [20,30,45,60,20,10]\n",
    "photo = [30,30,15,20,40,60]\n",
    "job = ['A','B','C','D','E','F']\n",
    "\n",
    "stage = [2,5,4,9,6,8,7,5,4]\n",
    "photo = [6,8,7,4,3,9,3,8,11]\n",
    "job = ['A','B','C','D','E','F','G','H','I']\n",
    "\n",
    "def sort_dict(s, rev_stat):\n",
    "    return sorted(s.items(), key=lambda x: x[1], reverse=rev_stat)\n",
    "\t\n",
    "## dict create\n",
    "d = defaultdict(list);stage_dict =dict();photo_dict=dict()\n",
    "\n",
    "for i in range(len(job)):\n",
    "    d[stage[i]].append('S_'+job[i])\n",
    "    d[photo[i]].append('P_'+job[i])\n",
    "    stage_dict[job[i]] = stage[i]\n",
    "    photo_dict[job[i]] = photo[i]\n",
    "\n",
    "print(dict(d))\n",
    "print(stage_dict)\n",
    "print(photo_dict)\n",
    "stage_dict1 = stage_dict.copy()\n",
    "photo_dict1 = photo_dict.copy()"
   ]
  },
  {
   "cell_type": "code",
   "execution_count": 50,
   "metadata": {},
   "outputs": [
    {
     "name": "stdout",
     "output_type": "stream",
     "text": [
      "2\n",
      "['A']\n",
      "[]\n",
      "{'B': 5, 'C': 4, 'D': 9, 'E': 6, 'F': 8, 'G': 7, 'H': 5, 'I': 4}\n",
      "{'B': 8, 'C': 7, 'D': 4, 'E': 3, 'F': 9, 'G': 3, 'H': 8, 'I': 11}\n",
      "===\n",
      "3\n",
      "['A']\n",
      "[['E', 'G']]\n",
      "{'B': 5, 'C': 4, 'D': 9, 'F': 8, 'H': 5, 'I': 4}\n",
      "{'B': 8, 'C': 7, 'D': 4, 'F': 9, 'H': 8, 'I': 11}\n",
      "===\n",
      "4\n",
      "['A', 'I', 'C']\n",
      "[['E', 'G'], ['D']]\n",
      "{'B': 5, 'F': 8, 'H': 5}\n",
      "{'B': 8, 'F': 9, 'H': 8}\n",
      "===\n",
      "5\n",
      "['A', 'I', 'C', 'B', 'H']\n",
      "[['E', 'G'], ['D']]\n",
      "{'F': 8}\n",
      "{'F': 9}\n",
      "===\n",
      "6\n",
      "['A', 'I', 'C', 'B', 'H']\n",
      "[['E', 'G'], ['D']]\n",
      "{'F': 8}\n",
      "{'F': 9}\n",
      "===\n",
      "7\n",
      "['A', 'I', 'C', 'B', 'H']\n",
      "[['E', 'G'], ['D']]\n",
      "{'F': 8}\n",
      "{'F': 9}\n",
      "===\n",
      "8\n",
      "['A', 'I', 'C', 'B', 'H', 'F']\n",
      "[['E', 'G'], ['D']]\n",
      "{}\n",
      "{}\n",
      "===\n",
      "9\n",
      "['A', 'I', 'C', 'B', 'H', 'F']\n",
      "[['E', 'G'], ['D']]\n",
      "{}\n",
      "{}\n",
      "===\n",
      "11\n",
      "['A', 'I', 'C', 'B', 'H', 'F']\n",
      "[['E', 'G'], ['D']]\n",
      "{}\n",
      "{}\n",
      "===\n",
      "['A', 'I', 'C', 'B', 'H', 'F', 'D', 'E', 'G']\n"
     ]
    }
   ],
   "source": [
    "\n",
    "\n",
    "counter = 0;len_d = len(dict(d));l1 = [];l2=[]\n",
    "while counter<len_d:\n",
    "    min_value = min(d.keys())\n",
    "    print(min_value)\n",
    "    s_values = [j.split('_')[1] for j in d[min_value] if j.startswith('S')]\n",
    "    p_values = [j.split('_')[1] for j in d[min_value] if j.startswith('P')]\n",
    "    s1 = sort_dict(s = dict([(j,photo_dict[j]) for j in s_values if photo_dict.get(j,None) is not None]), rev_stat = True)\n",
    "    for j in s1:\n",
    "        if j[0] is not None:\n",
    "            l1.append(j[0])\n",
    "        photo_dict.pop(j[0], None);stage_dict.pop(j[0], None)\n",
    "    s2 = sort_dict(s = dict([(j,stage_dict[j]) for j in p_values if stage_dict.get(j,None) is not None]), rev_stat = False) \n",
    "    if s2:\n",
    "        l2.append(list(list(zip(*s2))[0]))\n",
    "    for j in s2:\n",
    "        stage_dict.pop(j[0], None);photo_dict.pop(j[0], None)\n",
    "    counter+=1;del d[min_value]\n",
    "    print(l1)\n",
    "    print(l2)\n",
    "    print(stage_dict)\n",
    "    print(photo_dict)\n",
    "    print(\"===\")\n",
    "\n",
    "l2 = list(chain(*l2[::-1]))\n",
    "res = l1+l2\n",
    "print(res)"
   ]
  },
  {
   "cell_type": "code",
   "execution_count": 51,
   "metadata": {},
   "outputs": [
    {
     "data": {
      "text/plain": [
       "{'A': 2, 'B': 5, 'C': 4, 'D': 9, 'E': 6, 'F': 8, 'G': 7, 'H': 5, 'I': 4}"
      ]
     },
     "execution_count": 51,
     "metadata": {},
     "output_type": "execute_result"
    }
   ],
   "source": [
    "stage_dict1"
   ]
  },
  {
   "cell_type": "code",
   "execution_count": 52,
   "metadata": {},
   "outputs": [
    {
     "data": {
      "text/plain": [
       "{'A': 6, 'B': 8, 'C': 7, 'D': 4, 'E': 3, 'F': 9, 'G': 3, 'H': 8, 'I': 11}"
      ]
     },
     "execution_count": 52,
     "metadata": {},
     "output_type": "execute_result"
    }
   ],
   "source": [
    "photo_dict1"
   ]
  },
  {
   "cell_type": "code",
   "execution_count": 53,
   "metadata": {},
   "outputs": [
    {
     "name": "stdout",
     "output_type": "stream",
     "text": [
      "A\n",
      "0 2 2 8 : 2\n",
      "I\n",
      "2 6 8 19 : 0\n",
      "C\n",
      "6 10 19 26 : 0\n",
      "B\n",
      "10 15 26 34 : 0\n",
      "H\n",
      "15 20 34 42 : 0\n",
      "F\n",
      "20 28 42 51 : 0\n",
      "D\n",
      "28 37 51 55 : 0\n",
      "E\n",
      "37 43 55 58 : 0\n",
      "G\n",
      "43 50 58 61 : 0\n",
      "total_processing time :  61\n",
      "total_idle :  2\n"
     ]
    }
   ],
   "source": [
    "s_in = 0\n",
    "s_out = 0\n",
    "\n",
    "p_in = 0\n",
    "p_out = 0\n",
    "\n",
    "total_idle = 0\n",
    "idle = stage_dict1[res[0]] \n",
    "\n",
    "for i in res:\n",
    "    print(i)\n",
    "    s_in = s_out\n",
    "    s_out = s_in +  stage_dict1[i]    \n",
    "\n",
    "    p_in = p_out + idle\n",
    "    idle = p_in - p_out\n",
    "    p_out = p_in +  photo_dict1[i]    \n",
    "    \n",
    "    print(s_in, s_out, p_in, p_out,':', idle)\n",
    "    total_idle = total_idle + idle \n",
    "    idle = 0\n",
    "print('total_processing time : ',p_out)\n",
    "print('total_idle : ',total_idle)"
   ]
  },
  {
   "cell_type": "code",
   "execution_count": null,
   "metadata": {},
   "outputs": [],
   "source": []
  },
  {
   "cell_type": "code",
   "execution_count": null,
   "metadata": {},
   "outputs": [],
   "source": []
  },
  {
   "cell_type": "code",
   "execution_count": null,
   "metadata": {},
   "outputs": [],
   "source": []
  },
  {
   "cell_type": "code",
   "execution_count": null,
   "metadata": {},
   "outputs": [],
   "source": []
  }
 ],
 "metadata": {
  "kernelspec": {
   "display_name": "Python 3",
   "language": "python",
   "name": "python3"
  },
  "language_info": {
   "codemirror_mode": {
    "name": "ipython",
    "version": 3
   },
   "file_extension": ".py",
   "mimetype": "text/x-python",
   "name": "python",
   "nbconvert_exporter": "python",
   "pygments_lexer": "ipython3",
   "version": "3.6.8"
  },
  "toc": {
   "base_numbering": 1,
   "nav_menu": {},
   "number_sections": true,
   "sideBar": true,
   "skip_h1_title": false,
   "title_cell": "Table of Contents",
   "title_sidebar": "Contents",
   "toc_cell": false,
   "toc_position": {},
   "toc_section_display": true,
   "toc_window_display": false
  }
 },
 "nbformat": 4,
 "nbformat_minor": 4
}
